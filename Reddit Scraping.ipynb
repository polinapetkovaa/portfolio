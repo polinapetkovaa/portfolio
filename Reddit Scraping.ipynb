{
 "cells": [
  {
   "cell_type": "markdown",
   "id": "412bb1fc",
   "metadata": {},
   "source": [
    "## Reddit Scraping\n",
    "- Creating an array that holds seven subreddit names\n",
    "- Creating a dictionary with the following information for each subreddit: display name, title, subscribers, date of creation.\n",
    "- Creating a loopto retrieve data for the ten subreddits and storing the data in a JSON file."
   ]
  },
  {
   "cell_type": "code",
   "execution_count": 11,
   "id": "d99c4dca",
   "metadata": {},
   "outputs": [
    {
     "name": "stdout",
     "output_type": "stream",
     "text": [
      "Overwatch\n",
      "https://www.reddit.com/r/Overwatch/about.json\n",
      "marketing\n",
      "https://www.reddit.com/r/marketing/about.json\n",
      "Music\n",
      "https://www.reddit.com/r/Music/about.json\n",
      "dataanalysis\n",
      "https://www.reddit.com/r/dataanalysis/about.json\n",
      "youtube\n",
      "https://www.reddit.com/r/youtube/about.json\n",
      "nasa\n",
      "https://www.reddit.com/r/nasa/about.json\n",
      "AmItheAsshole\n",
      "https://www.reddit.com/r/AmItheAsshole/about.json\n"
     ]
    }
   ],
   "source": [
    "#Import relevant packages\n",
    "import requests\n",
    "import json\n",
    "\n",
    "subreddits = ['Overwatch', 'marketing', 'Music', 'dataanalysis', 'youtube', 'nasa', 'AmItheAsshole']\n",
    "\n",
    "#Function to retrieve data from reddits\n",
    "def get_data(subreddit):\n",
    "    url = 'https://www.reddit.com/r/' + subreddit + '/about.json'\n",
    "    print(url)\n",
    "    content = requests.get(url, headers = {'User-agent': 'I am learning Python'}).json()\n",
    "    \n",
    "    result = {'display_name': content['data']['display_name'],\n",
    "               'title': content['data']['title'],\n",
    "               'subscribers': content['data']['subscribers'],\n",
    "               'created': content['data']['created']}\n",
    "    return(result)\n",
    "\n",
    "#Saving the data\n",
    "f=open('subreddits.json', 'w', encoding='utf-8')\n",
    "\n",
    "for subreddit in subreddits:\n",
    "    print(subreddit)\n",
    "    f.write(json.dumps(get_data(subreddit)))\n",
    "    f.write('\\n')\n",
    "    \n",
    "f.close()"
   ]
  }
 ],
 "metadata": {
  "kernelspec": {
   "display_name": "Python 3",
   "language": "python",
   "name": "python3"
  },
  "language_info": {
   "codemirror_mode": {
    "name": "ipython",
    "version": 3
   },
   "file_extension": ".py",
   "mimetype": "text/x-python",
   "name": "python",
   "nbconvert_exporter": "python",
   "pygments_lexer": "ipython3",
   "version": "3.8.8"
  }
 },
 "nbformat": 4,
 "nbformat_minor": 5
}
