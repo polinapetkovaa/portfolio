{
 "cells": [
  {
   "cell_type": "markdown",
   "id": "e069019f",
   "metadata": {},
   "source": [
    "## Webscraping Twitch website using Selenium\n",
    "- Webscraping the homepage of the website to retrieve a list of the streams that are currently on the page"
   ]
  },
  {
   "cell_type": "code",
   "execution_count": 1,
   "id": "bd52e350",
   "metadata": {},
   "outputs": [
    {
     "name": "stdout",
     "output_type": "stream",
     "text": [
      "Requirement already satisfied: webdriver_manager in d:\\anaconda\\lib\\site-packages (3.5.2)\n",
      "Requirement already satisfied: requests in d:\\anaconda\\lib\\site-packages (from webdriver_manager) (2.25.1)\n",
      "Requirement already satisfied: configparser in d:\\anaconda\\lib\\site-packages (from webdriver_manager) (5.2.0)\n",
      "Requirement already satisfied: crayons in d:\\anaconda\\lib\\site-packages (from webdriver_manager) (0.4.0)\n",
      "Requirement already satisfied: colorama in d:\\anaconda\\lib\\site-packages (from crayons->webdriver_manager) (0.4.4)\n",
      "Requirement already satisfied: certifi>=2017.4.17 in d:\\anaconda\\lib\\site-packages (from requests->webdriver_manager) (2020.12.5)\n",
      "Requirement already satisfied: idna<3,>=2.5 in d:\\anaconda\\lib\\site-packages (from requests->webdriver_manager) (2.10)\n",
      "Requirement already satisfied: chardet<5,>=3.0.2 in d:\\anaconda\\lib\\site-packages (from requests->webdriver_manager) (4.0.0)\n",
      "Requirement already satisfied: urllib3<1.27,>=1.21.1 in d:\\anaconda\\lib\\site-packages (from requests->webdriver_manager) (1.26.4)\n",
      "Requirement already satisfied: selenium in d:\\anaconda\\lib\\site-packages (3.141.0)\n",
      "Requirement already satisfied: urllib3 in d:\\anaconda\\lib\\site-packages (from selenium) (1.26.4)\n"
     ]
    },
    {
     "name": "stderr",
     "output_type": "stream",
     "text": [
      "\n",
      "\n",
      "====== WebDriver manager ======\n",
      "Current google-chrome version is 108.0.5359\n",
      "Get LATEST chromedriver version for 108.0.5359 google-chrome\n",
      "Trying to download new driver from https://chromedriver.storage.googleapis.com/108.0.5359.71/chromedriver_win32.zip\n",
      "Driver has been saved in cache [C:\\Users\\polina\\.wdm\\drivers\\chromedriver\\win32\\108.0.5359.71]\n"
     ]
    }
   ],
   "source": [
    "#Installing and starting up Chrome using webdriver manager\n",
    "\n",
    "!pip install webdriver_manager\n",
    "!pip install selenium\n",
    "\n",
    "from selenium import webdriver\n",
    "from selenium.webdriver.chrome.options import Options\n",
    "from webdriver_manager.chrome import ChromeDriverManager\n",
    "\n",
    "# Opening the Twitch site\n",
    "driver = webdriver.Chrome(ChromeDriverManager().install())\n",
    "\n",
    "url = \"https://twitch.tv/\"\n",
    "driver.get(url)"
   ]
  },
  {
   "cell_type": "code",
   "execution_count": 2,
   "id": "3d2f5000",
   "metadata": {},
   "outputs": [],
   "source": [
    "#Loading the website\n",
    "import time\n",
    "ulr = \"https://twitch.tv/\"\n",
    "driver.get(url)\n",
    "time.sleep(3)"
   ]
  },
  {
   "cell_type": "code",
   "execution_count": 6,
   "id": "078a015e",
   "metadata": {},
   "outputs": [
    {
     "data": {
      "text/plain": [
       "[\"Stream 1:IT'S NOT OVER UNTIL I WINv3na7a\",\n",
       " 'Stream 2:Дидко БАНДИТКО ги стреля в ТАРКИ!Dido_D',\n",
       " 'Stream 3:Team Aster vs. Aster.Aries - DPC 2023 CN Winter Tour Division IPGL_Dota2',\n",
       " 'Stream 4:Magical Journey to rank 1 and Best Bard World | !Patreon !CoachingLathyrusTv',\n",
       " 'Stream 5:🧊!guide ask anything GRANDMASTER OLAF / TRUNDLE TOP !discord🦎TrundleTop1',\n",
       " \"Stream 6:Akshan / K'Sante / Yasuo | RACE TO MASTER Day #1 | Plat 1 10LP startThe_Unf0rgiv3n\",\n",
       " 'Stream 7:Vengeful Guardian: Moonrider #ad !gameStealthygolem',\n",
       " 'Stream 8:Kartriders?!?!?!? | !Socials: CDNThe3rd [+]CDNThe3rd',\n",
       " 'Stream 9:Vengeful Guardian: Moonrider #sponsored #adGrayskull83',\n",
       " 'Stream 10:BIRTHDAY DAY 3 ♡ (EN/中文/日本語) !social !discordgemuyo',\n",
       " 'Stream 11:Das El Clásico der Breakfast Streams | !alexander, !steffen & !danWildMics',\n",
       " 'Stream 12:(18+) Getting carried by @Reth0sNovarla',\n",
       " 'Stream 13:🌞CLICK HERE🌞CLICK NOW🌞BIG THINGS🌞MASSIVE NEWS🌞BIG DRAMA EVERYWHERE🌞INSANE DAY🌞UNHINGED🌞WOW🌞DID U HEAR WHAT HAPPENED🌞THAT IS BIG🌞xQc',\n",
       " 'Stream 14:+18💦 SMASH OR PASS💦viewers pics in !discordAmouranth',\n",
       " 'Stream 15:+18 🔥 !discord | Зареждам и пускаме нещо.Xabilitiess',\n",
       " 'Stream 16:VCHERA BESHE TEGAVO DNESKA OSHTE POstefkicha1',\n",
       " 'Stream 17:187 day 2 i guess !standing !blitzDrututt',\n",
       " 'Stream 18:ТРЕНИРАМЕ В ДЪЛБИНИТЕ НА ЕЛО ХЕЛАnikicha1_',\n",
       " 'Stream 19:lil cozy cop morning x | variety w/ kris, jenny & belle later ~Crystalst',\n",
       " \"Stream 20:sorry I'm late I was having chex | @KristoferYee on socialsKristoferYee\",\n",
       " 'Stream 21:JAY HOBBS IS IN THE CITY | NoPixel WL | VALO AFTER !youtube !twitter !mic !bsg !metaa2guapo',\n",
       " 'Stream 22:✈️ EGSS-LFRS ✈️ | Flying to Thrustmaster HQ... for only £9.99LondonController',\n",
       " 'Stream 23:TROLL AO TOPO - O DESAFIO🏆RAD TOP 20🏆12/365 live todos os dias🏆!saga !loja !rivalry !exitlagTcK10',\n",
       " 'Stream 24:[ENUF] Snu´s - \"Zum salzigen Overpen\" - #fsk18 #techno #1193SnuSnu__RIP',\n",
       " 'Stream 25:Awesome Games Done Quick 2023 - Benefiting Prevent Cancer Foundation - Dokkaebi-ga GandaGamesDoneQuick',\n",
       " 'Stream 26:(Short stream?) GTA:SA Any% Speedruns | ESA 18/2/23Joshimuz',\n",
       " 'Stream 27:ROAD TO TOP 20  | !Patreon | !discord | !varietyAzzapp',\n",
       " 'Stream 28:[BROSF] Heist docLeave :^) !build !brosfSteelmage',\n",
       " 'Stream 29:♿I AM VEGAN NOW COME LOOK AT MY VEGAN BUILD♿CUTEDOG_🍑CuteDog_',\n",
       " 'Stream 30:I LOVE THESE NICE SUNDAYSfuzzface49',\n",
       " 'Stream 31:[Drops] ALOO  // !youtube !discordATK',\n",
       " 'Stream 32:[!DROPS] 24H MOIRA SKIN STREAM !subgoalAverageJonas',\n",
       " 'Stream 33:[DROPS ON] TANK GAMING UNTIL I GET BOREDFextralife',\n",
       " 'Stream 34:me thinks my internet is fixed, time to stare at alhaitham trailerOkCode',\n",
       " 'Stream 35:ELLY 2.0 SUB-DONOTHON DAY 25!!! 👽 💰 | #AlienwareHive !incentives !merch !corsair !GamerSuppsEllyEN',\n",
       " 'Stream 36:THAT LATE NIGHT BABYGraycen',\n",
       " 'Stream 37:Non Stop Music - Monstercat TV 🎶Monstercat',\n",
       " 'Stream 38:Relax & Chill Beats -!trivia- -!hangman- -!scramble-RelaxBeats',\n",
       " 'Stream 39:comfy art strimshuusakurai',\n",
       " 'Stream 40:Climbathon 2023: Day 2 of 14 !challenge -- !facecheck #adBroxah',\n",
       " 'Stream 41:dota2gamerTopsonous',\n",
       " 'Stream 42:No Matter What !raid !egb !greenchef !timexEternaLEnVyy',\n",
       " 'Stream 43:TEKKEN BABYTheMainManSWE',\n",
       " 'Stream 44:😏OH😏MY😏SKUNKU😏YES😏YES😏MUST😏SEEKyokeru',\n",
       " 'Stream 45:Rebroadcast Rumble! !codeDKOgame',\n",
       " 'Stream 46:C9 k3soju | NEW PATCH 24 hour, actually gonna be playing the game, rank 1 before defender cup | !yt !clipsk3soju',\n",
       " 'Stream 47:KEKW Cornersuperjj102',\n",
       " 'Stream 48:🍑💨🎂  ARENA GUYRedBeard',\n",
       " 'Stream 49:[ GPO ] Winter Subathon -- 500 Logias Giveaway this stream -- !!FunknovaluYT',\n",
       " 'Stream 50:points = free robux and pets NEW YEAR MARATHON!  partner push Pet sim x huge pet giveaways robux giveaways adopt me bloxfruits Day 2/30HugeSino',\n",
       " 'Stream 51:Abdul 🌐 My First Playthrough 🌐 #PuzzleSolver 🌐 NoPixel 🌐 Variety 🌐 !Turbo 🌐 Drama 🌐 Habibi 🌐 !Twitter 🌐 !Tiktok 🌐 Reacts 🌐AbdulHD',\n",
       " 'Stream 52:VRS Merc | Mojo in Q .sto found in excavator torque car, now we can fight?PabloGz205',\n",
       " 'Stream 53:GT3 Daytona | Secondary HDD Crash F 🏁🔥🏳🚦SimRacingPrix',\n",
       " 'Stream 54:Daytona grind continues!Actrollvision',\n",
       " 'Stream 55:TRANSFER WINDOW! - MTK BUDAPEST - BUILDING A NATION!SecondYellowCard',\n",
       " 'Stream 56:Maintenance? THANK YOU EA| !mbappefaustography_',\n",
       " 'Stream 57:Something Special Is Happening @ NK Domžale - Youth/Build-A-Nation !training !Save !PCSRDFTactics']"
      ]
     },
     "execution_count": 6,
     "metadata": {},
     "output_type": "execute_result"
    }
   ],
   "source": [
    "#Importing BeautifulSoup\n",
    "from bs4 import BeautifulSoup\n",
    "soup = BeautifulSoup(driver.page_source)\n",
    "\n",
    "streams = soup.find_all('a', {'data-test-selector': \"TitleAndChannel\"})\n",
    "\n",
    "streams_list = []\n",
    "\n",
    "#print a list of stream names\n",
    "counter = 0\n",
    "for stream in streams:\n",
    "    counter = counter + 1\n",
    "    streams_list.append('Stream ' + str(counter) + \":\" + stream.get_text())\n",
    "\n",
    "streams_list"
   ]
  }
 ],
 "metadata": {
  "kernelspec": {
   "display_name": "Python 3",
   "language": "python",
   "name": "python3"
  },
  "language_info": {
   "codemirror_mode": {
    "name": "ipython",
    "version": 3
   },
   "file_extension": ".py",
   "mimetype": "text/x-python",
   "name": "python",
   "nbconvert_exporter": "python",
   "pygments_lexer": "ipython3",
   "version": "3.8.8"
  }
 },
 "nbformat": 4,
 "nbformat_minor": 5
}
